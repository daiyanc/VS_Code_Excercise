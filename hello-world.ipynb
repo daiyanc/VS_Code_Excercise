{
 "cells": [
  {
   "cell_type": "code",
   "execution_count": 1,
   "metadata": {},
   "outputs": [
    {
     "name": "stdout",
     "output_type": "stream",
     "text": [
      "Hello world! I am running this from VS Code!\n"
     ]
    }
   ],
   "source": [
    "print(\"Hello world! I am running this from VS Code!\")"
   ]
  }
 ],
 "metadata": {
  "interpreter": {
   "hash": "8c3d544bad554991b8e4bfd7425fb7fd3f6709600fd5ccac5ea2a9a038370f2e"
  },
  "kernelspec": {
   "display_name": "Python 3.9.5 64-bit",
   "name": "python3"
  },
  "language_info": {
   "codemirror_mode": {
    "name": "ipython",
    "version": 3
   },
   "file_extension": ".py",
   "mimetype": "text/x-python",
   "name": "python",
   "nbconvert_exporter": "python",
   "pygments_lexer": "ipython3",
   "version": "3.9.5"
  },
  "orig_nbformat": 4
 },
 "nbformat": 4,
 "nbformat_minor": 2
}
